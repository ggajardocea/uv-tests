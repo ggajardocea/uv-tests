{
 "cells": [
  {
   "cell_type": "code",
   "execution_count": null,
   "id": "fadb68fb",
   "metadata": {},
   "outputs": [],
   "source": [
    "from smolagents import CodeAgent, MLXModel, tool\n",
    "from subprocess import run\n",
    "import sys\n"
   ]
  },
  {
   "cell_type": "code",
   "execution_count": null,
   "id": "675c0725",
   "metadata": {},
   "outputs": [],
   "source": [
    "agent = CodeAgent(\n",
    "        model=MLXModel(model_id=\"mlx-community/Qwen3-Coder-30B-A3B-Instruct-4bit-dwq-v2\", max_tokens=8192, trust_remote_code=True),\n",
    "        tools=[write_file, sh],\n",
    "        add_base_tools=True,\n",
    "    )"
   ]
  }
 ],
 "metadata": {
  "kernelspec": {
   "display_name": ".venv",
   "language": "python",
   "name": "python3"
  },
  "language_info": {
   "codemirror_mode": {
    "name": "ipython",
    "version": 3
   },
   "file_extension": ".py",
   "mimetype": "text/x-python",
   "name": "python",
   "nbconvert_exporter": "python",
   "pygments_lexer": "ipython3",
   "version": "3.13.5"
  }
 },
 "nbformat": 4,
 "nbformat_minor": 5
}
