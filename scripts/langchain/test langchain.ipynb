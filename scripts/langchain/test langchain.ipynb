{
 "cells": [
  {
   "cell_type": "code",
   "execution_count": 1,
   "id": "dd2ac09a",
   "metadata": {},
   "outputs": [],
   "source": [
    "import os\n",
    "\n",
    "from langchain.chat_models import ChatOpenAI\n",
    "from langchain.prompts.chat import (\n",
    "    ChatPromptTemplate,\n",
    "    HumanMessagePromptTemplate,\n",
    ")\n",
    "from langchain.output_parsers import PydanticOutputParser\n",
    "from pydantic import BaseModel, Field\n",
    "from dotenv import load_dotenv"
   ]
  },
  {
   "cell_type": "code",
   "execution_count": 2,
   "id": "b4cd4605",
   "metadata": {},
   "outputs": [],
   "source": [
    "load_dotenv()\n",
    "\n",
    "OPENAI_MODEL = \"gpt-3.5-turbo\"\n",
    "OPENAI_API_KEY = os.environ.get(\"OPENAI_API_KEY\")"
   ]
  },
  {
   "cell_type": "code",
   "execution_count": 3,
   "id": "8f0f560d",
   "metadata": {},
   "outputs": [],
   "source": [
    "class Country(BaseModel):\n",
    "    capital: str = Field(description=\"capital of the country\")\n",
    "    name: str = Field(description=\"name of the country\")\n",
    "\n",
    "PROMPT_COUNTRY_INFO = \"\"\"\n",
    "    Provide information about {country}.\n",
    "    {format_instructions}\n",
    "    \"\"\""
   ]
  },
  {
   "cell_type": "code",
   "execution_count": 4,
   "id": "7b56e9db",
   "metadata": {},
   "outputs": [
    {
     "name": "stderr",
     "output_type": "stream",
     "text": [
      "/tmp/ipykernel_39503/1746828345.py:2: LangChainDeprecationWarning: The class `ChatOpenAI` was deprecated in LangChain 0.0.10 and will be removed in 1.0. An updated version of the class exists in the :class:`~langchain-openai package and should be used instead. To use it run `pip install -U :class:`~langchain-openai` and import as `from :class:`~langchain_openai import ChatOpenAI``.\n",
      "  llm = ChatOpenAI(openai_api_key=OPENAI_API_KEY, model_name=OPENAI_MODEL)\n"
     ]
    }
   ],
   "source": [
    "parser = PydanticOutputParser(pydantic_object=Country)\n",
    "llm = ChatOpenAI(openai_api_key=OPENAI_API_KEY, model_name=OPENAI_MODEL)\n",
    "message = HumanMessagePromptTemplate.from_template(\n",
    "    template=PROMPT_COUNTRY_INFO,\n",
    ")"
   ]
  },
  {
   "cell_type": "code",
   "execution_count": 5,
   "id": "3267a573",
   "metadata": {},
   "outputs": [
    {
     "data": {
      "text/plain": [
       "ChatPromptTemplate(input_variables=['country', 'format_instructions'], input_types={}, partial_variables={}, messages=[HumanMessagePromptTemplate(prompt=PromptTemplate(input_variables=['country', 'format_instructions'], input_types={}, partial_variables={}, template='\\n    Provide information about {country}.\\n    {format_instructions}\\n    '), additional_kwargs={})])"
      ]
     },
     "execution_count": 5,
     "metadata": {},
     "output_type": "execute_result"
    }
   ],
   "source": [
    "chat_prompt = ChatPromptTemplate.from_messages([message])\n",
    "chat_prompt"
   ]
  },
  {
   "cell_type": "code",
   "execution_count": 6,
   "id": "82653423",
   "metadata": {},
   "outputs": [],
   "source": [
    "country_name = \"Chile\""
   ]
  },
  {
   "cell_type": "code",
   "execution_count": 7,
   "id": "e62e3922",
   "metadata": {},
   "outputs": [
    {
     "name": "stdout",
     "output_type": "stream",
     "text": [
      "Generating response...\n"
     ]
    }
   ],
   "source": [
    "print(\"Generating response...\")\n",
    "chat_prompt_with_values = chat_prompt.format_prompt(\n",
    "    country=country_name, format_instructions=parser.get_format_instructions()\n",
    ")"
   ]
  },
  {
   "cell_type": "code",
   "execution_count": 8,
   "id": "5478bc7a",
   "metadata": {},
   "outputs": [
    {
     "name": "stderr",
     "output_type": "stream",
     "text": [
      "/tmp/ipykernel_39503/2875788004.py:1: LangChainDeprecationWarning: The method `BaseChatModel.__call__` was deprecated in langchain-core 0.1.7 and will be removed in 1.0. Use :meth:`~invoke` instead.\n",
      "  output = llm(chat_prompt_with_values.to_messages())\n"
     ]
    },
    {
     "name": "stdout",
     "output_type": "stream",
     "text": [
      "The capital of Chile is Santiago.\n"
     ]
    }
   ],
   "source": [
    "output = llm(chat_prompt_with_values.to_messages())\n",
    "country = parser.parse(output.content)\n",
    "print(f\"The capital of {country.name} is {country.capital}.\")"
   ]
  },
  {
   "cell_type": "markdown",
   "id": "ac6c45c6",
   "metadata": {},
   "source": [
    "# Pydantic"
   ]
  },
  {
   "cell_type": "code",
   "execution_count": 8,
   "id": "9caa2bca",
   "metadata": {},
   "outputs": [],
   "source": [
    "import os\n",
    "from dotenv import load_dotenv\n",
    "from pydantic import BaseModel, Field, field_validator, ConfigDict\n",
    "from typing import List, Optional\n",
    "from datetime import datetime\n",
    "\n",
    "class CodeReview(BaseModel):\n",
    "    score: int = Field(..., ge=1, le=10, description=\"Code quality score (1-10)\")\n",
    "    issues: List[str] = Field(..., description=\"List of code issues found\")\n",
    "    suggestions: List[str] = Field(..., description=\"Improvement suggestions\")\n",
    "    complexity: str = Field(..., description=\"Code complexity level\")\n",
    "    estimated_fix_time: str = Field(..., description=\"Estimated time to fix issues\")"
   ]
  },
  {
   "cell_type": "code",
   "execution_count": 10,
   "id": "e3808c7e",
   "metadata": {},
   "outputs": [
    {
     "name": "stdout",
     "output_type": "stream",
     "text": [
      "The output should be formatted as a JSON instance that conforms to the JSON schema below.\n",
      "\n",
      "As an example, for the schema {\"properties\": {\"foo\": {\"title\": \"Foo\", \"description\": \"a list of strings\", \"type\": \"array\", \"items\": {\"type\": \"string\"}}}, \"required\": [\"foo\"]}\n",
      "the object {\"foo\": [\"bar\", \"baz\"]} is a well-formatted instance of the schema. The object {\"properties\": {\"foo\": [\"bar\", \"baz\"]}} is not well-formatted.\n",
      "\n",
      "Here is the output schema:\n",
      "```\n",
      "{\"properties\": {\"score\": {\"description\": \"Code quality score (1-10)\", \"maximum\": 10, \"minimum\": 1, \"title\": \"Score\", \"type\": \"integer\"}, \"issues\": {\"description\": \"List of code issues found\", \"items\": {\"type\": \"string\"}, \"title\": \"Issues\", \"type\": \"array\"}, \"suggestions\": {\"description\": \"Improvement suggestions\", \"items\": {\"type\": \"string\"}, \"title\": \"Suggestions\", \"type\": \"array\"}, \"complexity\": {\"description\": \"Code complexity level\", \"title\": \"Complexity\", \"type\": \"string\"}, \"estimated_fix_time\": {\"description\": \"Estimated time to fix issues\", \"title\": \"Estimated Fix Time\", \"type\": \"string\"}}, \"required\": [\"score\", \"issues\", \"suggestions\", \"complexity\", \"estimated_fix_time\"]}\n",
      "```\n"
     ]
    }
   ],
   "source": [
    "from langchain_core.output_parsers import PydanticOutputParser\n",
    "parser = PydanticOutputParser(pydantic_object=CodeReview)\n",
    "format_instructions = parser.get_format_instructions()\n",
    "print(format_instructions)"
   ]
  },
  {
   "cell_type": "code",
   "execution_count": 11,
   "id": "b48ac0d4",
   "metadata": {},
   "outputs": [
    {
     "name": "stdout",
     "output_type": "stream",
     "text": [
      "\n",
      "✅ Parsed review score: 7\n",
      "   Issues found: 2\n"
     ]
    }
   ],
   "source": [
    "example_output = {\n",
    "            \"score\": 7,\n",
    "            \"issues\": [\"Missing error handling\", \"No input validation\"],\n",
    "            \"suggestions\": [\"Add try-catch blocks\", \"Validate user input\"],\n",
    "            \"complexity\": \"Medium\",\n",
    "            \"estimated_fix_time\": \"2-3 hours\"\n",
    "        }\n",
    "        \n",
    "parsed_review = CodeReview(**example_output)\n",
    "print(f\"\\n✅ Parsed review score: {parsed_review.score}\")\n",
    "print(f\"   Issues found: {len(parsed_review.issues)}\")"
   ]
  },
  {
   "cell_type": "code",
   "execution_count": 12,
   "id": "b5c3896c",
   "metadata": {},
   "outputs": [
    {
     "data": {
      "text/plain": [
       "['Missing error handling', 'No input validation']"
      ]
     },
     "execution_count": 12,
     "metadata": {},
     "output_type": "execute_result"
    }
   ],
   "source": [
    "parsed_review.issues\n"
   ]
  },
  {
   "cell_type": "code",
   "execution_count": null,
   "id": "f9b01eb0",
   "metadata": {},
   "outputs": [],
   "source": []
  }
 ],
 "metadata": {
  "kernelspec": {
   "display_name": ".venv",
   "language": "python",
   "name": "python3"
  },
  "language_info": {
   "codemirror_mode": {
    "name": "ipython",
    "version": 3
   },
   "file_extension": ".py",
   "mimetype": "text/x-python",
   "name": "python",
   "nbconvert_exporter": "python",
   "pygments_lexer": "ipython3",
   "version": "3.13.5"
  }
 },
 "nbformat": 4,
 "nbformat_minor": 5
}
